{
 "cells": [
  {
   "cell_type": "markdown",
   "metadata": {
    "colab_type": "text",
    "id": "d7zxUZX8JB0D"
   },
   "source": [
    "First install all the necessary dependencies:"
   ]
  },
  {
   "cell_type": "code",
   "execution_count": 1,
   "metadata": {
    "colab": {
     "base_uri": "https://localhost:8080/",
     "height": 193
    },
    "colab_type": "code",
    "executionInfo": {
     "elapsed": 5108,
     "status": "ok",
     "timestamp": 1536945858167,
     "user": {
      "displayName": "Adrian Clarke",
      "photoUrl": "https://lh3.googleusercontent.com/a/default-user=s128",
      "userId": "101466817269904873471"
     },
     "user_tz": 240
    },
    "id": "jRri1JtFU7_e",
    "outputId": "b909a1cd-a8e4-48b6-c183-0793e52efdc7"
   },
   "outputs": [
    {
     "name": "stdout",
     "output_type": "stream",
     "text": [
      "Requirement already satisfied: Pillow==4.0.0 in /home/clarkeaac/anaconda3/envs/fastai/lib/python3.6/site-packages (4.0.0)\n",
      "Requirement already satisfied: olefile in /home/clarkeaac/anaconda3/envs/fastai/lib/python3.6/site-packages (from Pillow==4.0.0) (0.46)\n",
      "Collecting PIL\n",
      "\u001b[31m  Could not find a version that satisfies the requirement PIL (from versions: )\u001b[0m\n",
      "\u001b[31mNo matching distribution found for PIL\u001b[0m\n",
      "Requirement already satisfied: Image in /home/clarkeaac/anaconda3/envs/fastai/lib/python3.6/site-packages (1.5.25)\n",
      "Requirement already satisfied: pillow in /home/clarkeaac/anaconda3/envs/fastai/lib/python3.6/site-packages (from Image) (4.0.0)\n",
      "Requirement already satisfied: django in /home/clarkeaac/anaconda3/envs/fastai/lib/python3.6/site-packages (from Image) (2.1.1)\n",
      "Requirement already satisfied: olefile in /home/clarkeaac/anaconda3/envs/fastai/lib/python3.6/site-packages (from pillow->Image) (0.46)\n",
      "Requirement already satisfied: pytz in /home/clarkeaac/anaconda3/envs/fastai/lib/python3.6/site-packages (from django->Image) (2018.5)\n",
      "Requirement already satisfied: imageio in /home/clarkeaac/anaconda3/envs/fastai/lib/python3.6/site-packages (2.4.1)\n",
      "Requirement already satisfied: pillow in /home/clarkeaac/anaconda3/envs/fastai/lib/python3.6/site-packages (from imageio) (4.0.0)\n",
      "Requirement already satisfied: numpy in /home/clarkeaac/anaconda3/envs/fastai/lib/python3.6/site-packages (from imageio) (1.15.0)\n",
      "Requirement already satisfied: olefile in /home/clarkeaac/anaconda3/envs/fastai/lib/python3.6/site-packages (from pillow->imageio) (0.46)\n"
     ]
    }
   ],
   "source": [
    "!pip install Pillow==4.0.0\n",
    "!pip install PIL\n",
    "!pip install Image\n",
    "!pip install imageio\n",
    "import PIL.Image"
   ]
  },
  {
   "cell_type": "code",
   "execution_count": 2,
   "metadata": {
    "colab": {},
    "colab_type": "code",
    "id": "kjXPpHgFcKHh"
   },
   "outputs": [],
   "source": [
    "import os\n",
    "import shutil"
   ]
  },
  {
   "cell_type": "code",
   "execution_count": 3,
   "metadata": {
    "colab": {},
    "colab_type": "code",
    "id": "9X7oP8TilhOu"
   },
   "outputs": [],
   "source": [
    "%%capture\n",
    "import random\n",
    "import numpy as np\n",
    "import pandas as pd\n",
    "import numpy.random as rng\n",
    "import matplotlib.pyplot as plt"
   ]
  },
  {
   "cell_type": "code",
   "execution_count": 4,
   "metadata": {
    "colab": {},
    "colab_type": "code",
    "id": "9BLA7LyUXpQi"
   },
   "outputs": [],
   "source": [
    "import imageio"
   ]
  },
  {
   "cell_type": "code",
   "execution_count": 5,
   "metadata": {},
   "outputs": [
    {
     "name": "stdout",
     "output_type": "stream",
     "text": [
      "annots.csv  car_ims  car_ims.tgz  cars_annos.mat  models  tmp\r\n"
     ]
    }
   ],
   "source": [
    "if os.path.exists('./Adam-experiments'):\n",
    "    os.chdir('./Adam-experiments')\n",
    "if os.path.exists('./data/cars'):\n",
    "    os.chdir('./data/cars/')\n",
    "!ls"
   ]
  },
  {
   "cell_type": "code",
   "execution_count": null,
   "metadata": {
    "colab": {
     "base_uri": "https://localhost:8080/",
     "height": 559
    },
    "colab_type": "code",
    "executionInfo": {
     "elapsed": 1808,
     "status": "ok",
     "timestamp": 1536946623048,
     "user": {
      "displayName": "Adrian Clarke",
      "photoUrl": "https://lh3.googleusercontent.com/a/default-user=s128",
      "userId": "101466817269904873471"
     },
     "user_tz": 240
    },
    "id": "0z6ZoAALVb0_",
    "outputId": "e7e2ca6d-cf7f-4df8-f936-7469e1a1e6fd"
   },
   "outputs": [],
   "source": [
    "# Look at several images from the training set\n",
    "annots = pd.read_csv('annots.csv')\n",
    "\n",
    "# Get subset belonging to a random class \n",
    "rand_cl = rng.choice(196)\n",
    "subset = annots.loc[annots['class']==rand_cl]\n",
    "\n",
    "fig=plt.figure(figsize=(18, 9))\n",
    "columns = 2\n",
    "rows = 2\n",
    "\n",
    "tr_fn = np.array(subset.loc[:8145].sample(n=columns*rows)['fname'])\n",
    "\n",
    "for i in range(1, columns*rows +1):\n",
    "    img = imageio.imread(tr_fn[i-1])    \n",
    "    fig.add_subplot(rows, columns, i)\n",
    "    plt.imshow(img)\n",
    "    plt.axis('off')\n",
    "    \n",
    "plt.show()"
   ]
  },
  {
   "cell_type": "code",
   "execution_count": null,
   "metadata": {
    "colab": {
     "base_uri": "https://localhost:8080/",
     "height": 559
    },
    "colab_type": "code",
    "executionInfo": {
     "elapsed": 1362,
     "status": "ok",
     "timestamp": 1536946624806,
     "user": {
      "displayName": "Adrian Clarke",
      "photoUrl": "https://lh3.googleusercontent.com/a/default-user=s128",
      "userId": "101466817269904873471"
     },
     "user_tz": 240
    },
    "id": "UaxLcw4ue_Sy",
    "outputId": "47cd622c-b933-45e0-e86f-52fd414283fc"
   },
   "outputs": [],
   "source": [
    "# Look at several images from the validation set\n",
    "# Make sure it looks like the same class\n",
    "# But none of the images should be exactly the same\n",
    "\n",
    "fig=plt.figure(figsize=(18, 9))\n",
    "columns = 2\n",
    "rows = 2\n",
    "\n",
    "val_fn = np.array(subset.loc[8145:].sample(n=columns*rows)['fname'])\n",
    "\n",
    "for i in range(1, columns*rows +1):\n",
    "    img = imageio.imread(val_fn[i-1])    \n",
    "    fig.add_subplot(rows, columns, i)\n",
    "    plt.imshow(img)\n",
    "    plt.axis('off')\n",
    "    \n",
    "plt.show()"
   ]
  },
  {
   "cell_type": "code",
   "execution_count": 6,
   "metadata": {
    "colab": {},
    "colab_type": "code",
    "id": "vK9E1aUbMBAu"
   },
   "outputs": [],
   "source": [
    "%%capture\n",
    "\n",
    "%reload_ext autoreload\n",
    "%autoreload 2\n",
    "%matplotlib inline\n",
    "\n",
    "from fastai.imports import *\n",
    "\n",
    "from fastai.transforms import *\n",
    "from fastai.conv_learner import *\n",
    "from fastai.model import *\n",
    "from fastai.dataset import *\n",
    "from fastai.sgdr import *\n",
    "#import skimage"
   ]
  },
  {
   "cell_type": "code",
   "execution_count": 7,
   "metadata": {},
   "outputs": [
    {
     "name": "stdout",
     "output_type": "stream",
     "text": [
      "callbacks.py\t      lm_val_fns.py    README.md\t utils.py\r\n",
      "data\t\t      logs__0.txt      train_cifar10.py\r\n",
      "fit_stanford_cars.py  prepare_data.py  train_model.py\r\n",
      "get_data.sh\t      __pycache__      train_rnn.py\r\n"
     ]
    }
   ],
   "source": [
    "if not os.path.exists('data'):\n",
    "    os.chdir('../..')\n",
    "!ls"
   ]
  },
  {
   "cell_type": "code",
   "execution_count": 8,
   "metadata": {
    "colab": {},
    "colab_type": "code",
    "id": "2RRK0hn-L2B6"
   },
   "outputs": [],
   "source": [
    "PATH = Path(\"data/cars/\")\n",
    "val_idxs = list(range(8144, 16185))\n",
    "\n",
    "def get_data(sz, val_idxs, bs=128, arch=resnet50, aug_tfms=transforms_side_on,\n",
    "            max_zoom=1.05):\n",
    "    tfms = tfms_from_model(arch, sz,\n",
    "            aug_tfms=aug_tfms,\n",
    "            max_zoom=max_zoom)\n",
    "    data = ImageClassifierData.from_csv(PATH, '', PATH/'annots.csv', bs, tfms,\n",
    "            val_idxs=val_idxs, num_workers=4)\n",
    "    return data\n",
    "\n",
    "arch = resnet50\n",
    "sz = 224\n",
    "# Side on tranforms but increased a bit\n",
    "aug_tfms = [RandomRotate(20), RandomLighting(0.1, 0.1), RandomFlip()]\n",
    "#aug_tfms += [GoogleNetResize(targ_sz=sz)]\n",
    "\n",
    "data = get_data(sz, val_idxs, bs=256, aug_tfms=aug_tfms, max_zoom=1.33)"
   ]
  },
  {
   "cell_type": "code",
   "execution_count": 9,
   "metadata": {
    "colab": {},
    "colab_type": "code",
    "id": "lihA9OeHSmAI"
   },
   "outputs": [],
   "source": [
    "# Without precompute set to False, this gives bad results.\n",
    "learn = ConvLearner.pretrained(arch, data, ps=[0.25,0.25], precompute=False)"
   ]
  },
  {
   "cell_type": "code",
   "execution_count": 10,
   "metadata": {
    "colab": {},
    "colab_type": "code",
    "id": "KVPorBsIMucB"
   },
   "outputs": [],
   "source": [
    "learn.opt_fn = optim.Adam"
   ]
  },
  {
   "cell_type": "code",
   "execution_count": null,
   "metadata": {},
   "outputs": [],
   "source": [
    "learn.summary"
   ]
  },
  {
   "cell_type": "code",
   "execution_count": 11,
   "metadata": {
    "colab": {
     "base_uri": "https://localhost:8080/",
     "height": 193
    },
    "colab_type": "code",
    "executionInfo": {
     "elapsed": 348,
     "status": "ok",
     "timestamp": 1536947728840,
     "user": {
      "displayName": "Adrian Clarke",
      "photoUrl": "https://lh3.googleusercontent.com/a/default-user=s128",
      "userId": "101466817269904873471"
     },
     "user_tz": 240
    },
    "id": "p731SYp5irwm",
    "outputId": "f84078ba-6801-4833-c90c-54321107009f"
   },
   "outputs": [],
   "source": [
    "learn.freeze()"
   ]
  },
  {
   "cell_type": "code",
   "execution_count": 13,
   "metadata": {
    "colab": {
     "base_uri": "https://localhost:8080/",
     "height": 301
    },
    "colab_type": "code",
    "executionInfo": {
     "elapsed": 5872,
     "status": "ok",
     "timestamp": 1536947744256,
     "user": {
      "displayName": "Adrian Clarke",
      "photoUrl": "https://lh3.googleusercontent.com/a/default-user=s128",
      "userId": "101466817269904873471"
     },
     "user_tz": 240
    },
    "id": "3c6kF2RVTVL2",
    "outputId": "cdb93087-0c5d-4054-fce0-477b6db98f5d",
    "scrolled": true
   },
   "outputs": [
    {
     "data": {
      "application/vnd.jupyter.widget-view+json": {
       "model_id": "ee6429b287444177b4108104d32c6e38",
       "version_major": 2,
       "version_minor": 0
      },
      "text/plain": [
       "HBox(children=(IntProgress(value=0, description='Epoch', max=1), HTML(value='')))"
      ]
     },
     "metadata": {},
     "output_type": "display_data"
    },
    {
     "name": "stdout",
     "output_type": "stream",
     "text": [
      " 94%|█████████▍| 30/32 [01:43<00:06,  3.26s/it, loss=14.2]"
     ]
    },
    {
     "data": {
      "image/png": "[encoded data removed]",
      "text/plain": [
       "<Figure size 432x288 with 1 Axes>"
      ]
     },
     "metadata": {
      "needs_background": "light"
     },
     "output_type": "display_data"
    }
   ],
   "source": [
    "lrf=learn.lr_find(wds = 1e-1, use_wd_sched=True, start_lr=1e-05, end_lr=10)\n",
    "learn.sched.plot(n_skip=0,n_skip_end=2)"
   ]
  },
  {
   "cell_type": "code",
   "execution_count": 14,
   "metadata": {
    "colab": {},
    "colab_type": "code",
    "id": "_ZKr5nYQQ6gO"
   },
   "outputs": [],
   "source": [
    "#Use this to free more GPU memory after running training\n",
    "torch.cuda.empty_cache()"
   ]
  },
  {
   "cell_type": "code",
   "execution_count": null,
   "metadata": {
    "colab": {
     "base_uri": "https://localhost:8080/",
     "height": 422
    },
    "colab_type": "code",
    "executionInfo": {
     "elapsed": 147728,
     "status": "ok",
     "timestamp": 1536947921237,
     "user": {
      "displayName": "Adrian Clarke",
      "photoUrl": "https://lh3.googleusercontent.com/a/default-user=s128",
      "userId": "101466817269904873471"
     },
     "user_tz": 240
    },
    "id": "nb-lvYr8WKHW",
    "outputId": "19c1db11-62c4-497d-c486-303f0fe7a30d",
    "scrolled": true
   },
   "outputs": [
    {
     "data": {
      "application/vnd.jupyter.widget-view+json": {
       "model_id": "bb9d4246b2b6465193cc196b6dc76050",
       "version_major": 2,
       "version_minor": 0
      },
      "text/plain": [
       "HBox(children=(IntProgress(value=0, description='Epoch', max=15), HTML(value='')))"
      ]
     },
     "metadata": {},
     "output_type": "display_data"
    },
    {
     "name": "stdout",
     "output_type": "stream",
     "text": [
      "  9%|▉         | 3/32 [00:16<03:40,  7.61s/it, loss=5.3] "
     ]
    }
   ],
   "source": [
    "result, ep_vals = learn.fit(8e-2, 1, cycle_len=15, use_clr_beta=(10, 13.33), wds=1.2e-1, use_wd_sched=True, get_ep_vals=True)"
   ]
  },
  {
   "cell_type": "code",
   "execution_count": null,
   "metadata": {
    "colab": {
     "base_uri": "https://localhost:8080/",
     "height": 301
    },
    "colab_type": "code",
    "executionInfo": {
     "elapsed": 5719,
     "status": "ok",
     "timestamp": 1536947984600,
     "user": {
      "displayName": "Adrian Clarke",
      "photoUrl": "https://lh3.googleusercontent.com/a/default-user=s128",
      "userId": "101466817269904873471"
     },
     "user_tz": 240
    },
    "id": "nIpDGHS1PFkj",
    "outputId": "a401c300-35a1-4966-a751-5428d1009563",
    "scrolled": true
   },
   "outputs": [],
   "source": [
    "learn.unfreeze()\n",
    "torch.cuda.empty_cache()"
   ]
  },
  {
   "cell_type": "code",
   "execution_count": null,
   "metadata": {},
   "outputs": [],
   "source": [
    "lrf=learn.lr_find(wds = 1e-1, use_wd_sched=True, start_lr=1e-06, end_lr=10)\n",
    "learn.sched.plot(n_skip=0,n_skip_end=0)"
   ]
  },
  {
   "cell_type": "code",
   "execution_count": null,
   "metadata": {
    "colab": {},
    "colab_type": "code",
    "id": "iPFWEwyaWFYS"
   },
   "outputs": [],
   "source": [
    "lr2 = 1e-3"
   ]
  },
  {
   "cell_type": "code",
   "execution_count": null,
   "metadata": {
    "colab": {},
    "colab_type": "code",
    "id": "0cwpCwImaSHa"
   },
   "outputs": [],
   "source": [
    "lrs = np.array([lr2/100,lr2/10,lr2])"
   ]
  },
  {
   "cell_type": "code",
   "execution_count": null,
   "metadata": {
    "colab": {
     "base_uri": "https://localhost:8080/",
     "height": 211
    },
    "colab_type": "code",
    "id": "YhyiFBw-bXIp",
    "outputId": "e2bdd41f-7443-4cab-a385-33ce97ea19e0",
    "scrolled": true
   },
   "outputs": [],
   "source": [
    "learn.fit(lrs, 1, cycle_len=40, use_clr_beta=(10, 10), wds=3e-3, use_wd_sched=True)"
   ]
  },
  {
   "cell_type": "code",
   "execution_count": null,
   "metadata": {
    "colab": {},
    "colab_type": "code",
    "id": "Ff9KajivWP2N"
   },
   "outputs": [],
   "source": [
    "log_preds, y = learn.TTA()"
   ]
  },
  {
   "cell_type": "code",
   "execution_count": null,
   "metadata": {
    "colab": {},
    "colab_type": "code",
    "id": "-M9akB5NWYse"
   },
   "outputs": [],
   "source": [
    "probs = np.exp(log_preds)"
   ]
  },
  {
   "cell_type": "code",
   "execution_count": null,
   "metadata": {
    "colab": {},
    "colab_type": "code",
    "id": "LxEGejUlW0le"
   },
   "outputs": [],
   "source": [
    "avg_TTA = np.mean(probs, axis = 0)"
   ]
  },
  {
   "cell_type": "code",
   "execution_count": null,
   "metadata": {
    "colab": {},
    "colab_type": "code",
    "id": "IAUDVAxSXtfS"
   },
   "outputs": [],
   "source": [
    "preds = np.argmax(avg_TTA,axis=1)\n",
    "targs = y"
   ]
  },
  {
   "cell_type": "code",
   "execution_count": null,
   "metadata": {
    "colab": {},
    "colab_type": "code",
    "id": "zjLXKwFBX9Q6"
   },
   "outputs": [],
   "source": [
    "TTA_acc = (preds==targs).mean()\n",
    "print(TTA_acc)"
   ]
  },
  {
   "cell_type": "code",
   "execution_count": null,
   "metadata": {
    "colab": {},
    "colab_type": "code",
    "id": "zfFfIe-aWU4m"
   },
   "outputs": [],
   "source": [
    "plt.hist(preds, bins=195)"
   ]
  }
 ],
 "metadata": {
  "accelerator": "GPU",
  "colab": {
   "collapsed_sections": [],
   "name": "StanfordCarsDraft4.ipynb",
   "provenance": [
    {
     "file_id": "1KzW8pp0BYnCs6PAHMYldgf3cxiwoizm1",
     "timestamp": 1536692690696
    }
   ],
   "version": "0.3.2"
  },
  "kernelspec": {
   "display_name": "Python 3",
   "language": "python",
   "name": "python3"
  },
  "language_info": {
   "codemirror_mode": {
    "name": "ipython",
    "version": 3
   },
   "file_extension": ".py",
   "mimetype": "text/x-python",
   "name": "python",
   "nbconvert_exporter": "python",
   "pygments_lexer": "ipython3",
   "version": "3.6.6"
  }
 },
 "nbformat": 4,
 "nbformat_minor": 1
}
