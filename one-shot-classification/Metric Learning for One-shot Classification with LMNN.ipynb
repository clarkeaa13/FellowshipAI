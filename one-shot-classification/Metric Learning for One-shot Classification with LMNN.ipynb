{
 "cells": [
  {
   "cell_type": "markdown",
   "metadata": {},
   "source": [
    "# Metric Learning with Large Margin Nearest Neighbors"
   ]
  },
  {
   "cell_type": "code",
   "execution_count": 14,
   "metadata": {},
   "outputs": [],
   "source": [
    "# ignore warnings due to deprecation \n",
    "import warnings\n",
    "warnings.filterwarnings(\"ignore\")"
   ]
  },
  {
   "cell_type": "code",
   "execution_count": 15,
   "metadata": {},
   "outputs": [],
   "source": [
    "import numpy as np\n",
    "import matplotlib.pyplot as plt\n",
    "import numpy.random as rng\n",
    "import numpy.linalg as alg\n",
    "\n",
    "import copy\n",
    "import metric_learn\n",
    "\n",
    "from scipy.ndimage import imread, affine_transform\n",
    "from scipy.spatial.distance import cdist, pdist\n",
    "from skimage.measure import block_reduce\n",
    "from skimage.transform import rescale, resize, downscale_local_mean\n",
    "from functools import reduce\n",
    "from PIL import Image\n",
    "\n",
    "import os"
   ]
  },
  {
   "cell_type": "markdown",
   "metadata": {},
   "source": [
    "\n",
    "#### All of the images were dumped into one folder in order to pull images for visualization/training:\n"
   ]
  },
  {
   "cell_type": "code",
   "execution_count": 17,
   "metadata": {},
   "outputs": [
    {
     "name": "stdout",
     "output_type": "stream",
     "text": [
      "showing example images for class 1\n"
     ]
    },
    {
     "data": {
      "text/plain": [
       "['0001_01.png',\n",
       " '0001_02.png',\n",
       " '0001_03.png',\n",
       " '0001_04.png',\n",
       " '0001_05.png',\n",
       " '0001_06.png',\n",
       " '0001_07.png',\n",
       " '0001_08.png',\n",
       " '0001_09.png',\n",
       " '0001_10.png',\n",
       " '0001_11.png',\n",
       " '0001_12.png',\n",
       " '0001_13.png',\n",
       " '0001_14.png',\n",
       " '0001_15.png',\n",
       " '0001_16.png',\n",
       " '0001_17.png',\n",
       " '0001_18.png',\n",
       " '0001_19.png',\n",
       " '0001_20.png']"
      ]
     },
     "execution_count": 17,
     "metadata": {},
     "output_type": "execute_result"
    }
   ],
   "source": [
    "allFiles = ' '\n",
    "rootDir =\"./DumpPNG/\"\n",
    "for dirName, subdirList, fileList in os.walk(rootDir):\n",
    "    for fname in fileList:\n",
    "        allFiles = allFiles + fname + ' '\n",
    "        #print('\\t%s' % fname) \n",
    "allFiles = allFiles.split(' ')\n",
    "del(allFiles[-1])\n",
    "del(allFiles[0])\n",
    "len(allFiles)\n",
    "#arbitrarily choose first 20 classes, so 20*15 = 300\n",
    "#allFiles.sort()\n",
    "#del(allFiles[0])\n",
    "#print(len(allFiles))\n",
    "print(\"showing example images for class 1\")\n",
    "allFiles[0:20]"
   ]
  },
  {
   "cell_type": "markdown",
   "metadata": {},
   "source": [
    "\n",
    "#### In this section, an image is shown from the dataset. 'np.logical_not()' is used so that the character shows up as '1' pixels in in the image.\n"
   ]
  },
  {
   "cell_type": "code",
   "execution_count": 19,
   "metadata": {},
   "outputs": [
    {
     "data": {
      "image/png": "[encoded data removed]",
      "text/plain": [
       "<matplotlib.figure.Figure at 0x1d1b432a588>"
      ]
     },
     "metadata": {},
     "output_type": "display_data"
    }
   ],
   "source": [
    "rootDir2 = './DumpPNG/'\n",
    "I = plt.imread(rootDir2+'\\\\'+allFiles[0])\n",
    "I = np.logical_not(I)\n",
    "I = I.astype(float)\n",
    "plt.imshow(I)\n",
    "plt.show()"
   ]
  },
  {
   "cell_type": "markdown",
   "metadata": {},
   "source": [
    "#### Next the image is distorted through an affine transform. This was done for data augmentation before pushing the images to the metric learner."
   ]
  },
  {
   "cell_type": "code",
   "execution_count": 20,
   "metadata": {},
   "outputs": [
    {
     "data": {
      "text/plain": [
       "<matplotlib.image.AxesImage at 0x1d1b3d866a0>"
      ]
     },
     "execution_count": 20,
     "metadata": {},
     "output_type": "execute_result"
    },
    {
     "data": {
      "image/png": "[encoded data removed]",
      "text/plain": [
       "<matplotlib.figure.Figure at 0x1d1b3ec8320>"
      ]
     },
     "metadata": {},
     "output_type": "display_data"
    }
   ],
   "source": [
    "theta = rng.uniform(-np.pi/18, np.pi/18)\n",
    "rhox = rng.uniform(-0.1,0.1)\n",
    "rhoy = rng.uniform(-0.1,0.1)\n",
    "sx = rng.uniform(0.9,1.1)\n",
    "sy = rng.uniform(0.9,1.1)\n",
    "tx = rng.uniform(-2,2)\n",
    "ty = rng.uniform(-2,2)\n",
    "c = np.cos(theta)\n",
    "s = np.sin(theta)\n",
    "Rot = np.array([[c,s],[-s,c]])\n",
    "Shr = np. array([[1,rhox],[rhoy,1]])\n",
    "Sca = np.array([[sx,0],[0,sy]])\n",
    "A = reduce(np.dot, [Sca, Shr, Rot])\n",
    "b = np.transpose([[tx,ty]])\n",
    "try:\n",
    "    Ainv = alg.inv(A)\n",
    "    HomoA = np.concatenate((Ainv,-np.dot(Ainv,b)),axis=1)\n",
    "    HomoA = np.concatenate((HomoA,[[0,0,1]]))\n",
    "    I = affine_transform(I, Ainv)\n",
    "except np.linalg.LinAlgError as err:\n",
    "    if 'Singular matrix' in str(err):\n",
    "        pass\n",
    "    else:\n",
    "        raise\n",
    "        \n",
    "I = I[4:100,4:100] # crop to 104 for clean division\n",
    "I = rescale(I, 1.0 / 3.0, anti_aliasing=False)\n",
    "#I = downscale_local_mean(I, (3, 3))\n",
    "I[I >= 0.5] = 1\n",
    "I[I < 0.5] = 0\n",
    "plt.imshow(I)"
   ]
  },
  {
   "cell_type": "code",
   "execution_count": 21,
   "metadata": {},
   "outputs": [],
   "source": [
    "ntrain = 20\n",
    "feat_mtx = np.zeros((6*ntrain,1024),dtype = float)\n",
    "feat_mtx[0:(6*ntrain):6,:] = I.flatten()"
   ]
  },
  {
   "cell_type": "code",
   "execution_count": 22,
   "metadata": {},
   "outputs": [],
   "source": [
    "def load_image(fn):\n",
    "    # Input: filename of image\n",
    "    # \n",
    "    # Output:\n",
    "    # n^2 length vector (32x32)\n",
    "    \n",
    "    I = plt.imread(fn)\n",
    "    I = np.array(I,dtype=float)\n",
    "    I = I[4:100,4:100]\n",
    "    I = rescale(I, 1.0 / 3.0, anti_aliasing=False)\n",
    "    I = I.astype(bool)\n",
    "    I = I.flatten()\n",
    "    return I"
   ]
  },
  {
   "cell_type": "markdown",
   "metadata": {},
   "source": [
    "#### The feature matrix is created by flattening all of the images into vectors of 1s and 0s. This is then visualized in the plot."
   ]
  },
  {
   "cell_type": "code",
   "execution_count": 26,
   "metadata": {},
   "outputs": [],
   "source": [
    "feature_mtx = np.zeros((len(allFiles),1024))\n",
    "for i, file in enumerate(allFiles):\n",
    "    filepath = './DumpPNG/' + file\n",
    "    feature_mtx[i,:] = load_image(filepath)\n",
    "feature_mtx = np.logical_not(feature_mtx)"
   ]
  },
  {
   "cell_type": "markdown",
   "metadata": {},
   "source": [
    "#### This plot shows the pixels in each of the 1000 images lit up in yellow. This represents the feature matrix for LMNN."
   ]
  },
  {
   "cell_type": "code",
   "execution_count": 27,
   "metadata": {},
   "outputs": [
    {
     "data": {
      "image/png": "[encoded data removed]",
      "text/plain": [
       "<matplotlib.figure.Figure at 0x1d1b06af320>"
      ]
     },
     "metadata": {},
     "output_type": "display_data"
    }
   ],
   "source": [
    "np.shape(feature_mtx)\n",
    "# show the first 1000 images unrolled\n",
    "plt.imshow(feature_mtx[:1000][:1024])\n",
    "plt.show()"
   ]
  },
  {
   "cell_type": "markdown",
   "metadata": {},
   "source": [
    "### Evaluate the model by training a LMNN classifier:"
   ]
  },
  {
   "cell_type": "markdown",
   "metadata": {},
   "source": [
    "#### Because this model takes very long to train, the Mahalanobis matrices from previous runs were saved and loaded for demonstration."
   ]
  },
  {
   "cell_type": "code",
   "execution_count": 34,
   "metadata": {},
   "outputs": [],
   "source": [
    "# Parameters\n",
    "nrun = 20 # number of classification runs\n",
    "fname_label = 'class_labels.txt' # where class labels are stored for each run"
   ]
  },
  {
   "cell_type": "code",
   "execution_count": 35,
   "metadata": {},
   "outputs": [],
   "source": [
    "def classification_run(folder,f_load,f_cost,ftype='cost'):\n",
    "    # Compute error rate for one run of one-shot classification\n",
    "    #\n",
    "    # Input\n",
    "    #  folder : contains images for a run of one-shot classification\n",
    "    #  f_load : itemA = f_load('file.png') should read in the image file and process it\n",
    "    #  f_cost : f_cost(itemA,itemB) should compute similarity between two images, using output of f_load\n",
    "    #  ftype  : 'cost' if small values from f_cost mean more similar, or 'score' if large values are more similar\n",
    "    #\n",
    "    # Output\n",
    "    #  perror : percent errors (0 to 100% error)\n",
    "    # \n",
    "    assert ((ftype=='cost') | (ftype=='score'))\n",
    "\n",
    "    # get file names\n",
    "    with open(folder+'/'+fname_label) as f:\n",
    "\t    content = f.read().splitlines()\n",
    "    pairs = [line.split() for line in content]\n",
    "    test_files  = [pair[0] for pair in pairs]\n",
    "    train_files = [pair[1] for pair in pairs]\n",
    "    answers_files = copy.copy(train_files)\n",
    "    test_files.sort()\n",
    "    train_files.sort()\t\n",
    "    ntrain = len(train_files)\n",
    "    ntest = len(test_files)\n",
    "\n",
    "    # load the images (and, if needed, extract features)\n",
    "    train_items = [f_load(f) for f in train_files]\n",
    "    test_items  = [f_load(f) for f in test_files ]\n",
    "\n",
    "    # Augment with 5 affine transforms\n",
    "    # Creates 6 total examples per training item\n",
    "    nexample = 6\n",
    "    feat_mtx = np.zeros((nexample*ntrain,1024),dtype=float)\n",
    "    for i, item in enumerate(train_items):\n",
    "        I = rescale(item, 1.0 / 3.0, anti_aliasing=False)\n",
    "        I = I.astype(bool)\n",
    "        I = I.astype(float)\n",
    "        feat_mtx[(nexample*i),:] = I.flatten()\n",
    "        for j in range(1,nexample):\n",
    "            feat_mtx[(nexample*i)+j,:] = AffineTransImg(item)\n",
    "\n",
    "    # gather the class numbers for each file\n",
    "    classes = np.repeat(np.arange(1,ntrain+1),nexample)\n",
    "\n",
    "    Y = classes\n",
    "    X = feat_mtx\n",
    "\n",
    "    # setting up LMNN\n",
    "    # tried 5 nearest neighbors (the 5 affine transforms of training data)\n",
    "    # Takes very long to train, so there is a block for preloaded matrices\n",
    "    lmnn = metric_learn.LMNN(k=5, min_iter=50, max_iter=1000, learn_rate=1e-6, regularization=1)\n",
    "\n",
    "    # fit the data!\n",
    "    # Could take up to 30 minutes per run\n",
    "    # Use already saved matrices to save time\n",
    "    try:\n",
    "        Minv = np.load(folder+'Minv.npy')\n",
    "    except FileNotFoundError:\n",
    "        print(\"Matrix file not available.\\n\")\n",
    "        print(\"Fitting data...\\n\")\n",
    "        lmnn.fit(X, Y)\n",
    "    # Save Mahalanobis metric matrix as a file for later\n",
    "        Minv = lmnn.metric()\n",
    "        np.save(folder+'Minv.npy', Minv)\n",
    "    \n",
    "    \n",
    "\n",
    "    # compute cost matrix\n",
    "    costM = np.zeros((ntest,ntrain),float)\n",
    "    for i in range(ntest):\n",
    "\t    for c in range(ntrain):\n",
    "\t\t    costM[i,c] = f_cost(test_items[i],train_items[c],Minv)\n",
    "    \n",
    "    if ftype == 'cost':\n",
    "\t    YHAT = np.argmin(costM,axis=1)\n",
    "    elif ftype == 'score':\n",
    "\t    YHAT = np.argmax(costM,axis=1)\n",
    "    else:\n",
    "\t    assert False\n",
    "\n",
    "    # compute the error rate\n",
    "    correct = 0.0\n",
    "    for i in range(ntest):\n",
    "\t    if train_files[YHAT[i]] == answers_files[i]:\n",
    "\t\t    correct += 1.0\n",
    "    pcorrect = 100 * correct / ntest\n",
    "    perror = 100 - pcorrect\n",
    "    return perror"
   ]
  },
  {
   "cell_type": "code",
   "execution_count": 36,
   "metadata": {},
   "outputs": [],
   "source": [
    "def ModHausdorffDistance(itemA,itemB,Minv):\n",
    "    # Modified Hausdorff Distance\n",
    "    #\n",
    "    # Input\n",
    "    #  itemA : [n x 2] coordinates of \"inked\" pixels\n",
    "    #  itemB : [m x 2] coordinates of \"inked\" pixels\n",
    "    #\n",
    "    #  M.-P. Dubuisson, A. K. Jain (1994). A modified hausdorff distance for object matching.\n",
    "    #  International Conference on Pattern Recognition, pp. 566-568.\n",
    "    #\n",
    "    itemA = rescale(itemA, 1.0 / 3.0, anti_aliasing=False).flatten()\n",
    "    itemB = rescale(itemB, 1.0 / 3.0, anti_aliasing=False).flatten()\n",
    "    \n",
    "    items = np.stack((itemA, itemB))\n",
    "    D = pdist(items, metric='mahalanobis', VI=Minv)\n",
    "    return D"
   ]
  },
  {
   "cell_type": "code",
   "execution_count": 37,
   "metadata": {},
   "outputs": [],
   "source": [
    "def LoadImgAsPoints(fn):\n",
    "    # Load image file and return coordinates of 'inked' pixels in the binary image\n",
    "    # \n",
    "    # Output:\n",
    "    #  D : [n x 2] rows are coordinates\n",
    "    I = imread(fn,flatten=True)\n",
    "    I = np.array(I,dtype=bool)\n",
    "    I = np.logical_not(I)\n",
    "\n",
    "    # crop it to 96x96 for easy rescaling\n",
    "    I = I[4:100,4:100]\n",
    "    #I = rescale(I, 1.0 / 3.0, anti_aliasing=False)\n",
    "    #I = resize(I, (I.shape[0] / 3, I.shape[1] / 3), anti_aliasing=False)\n",
    "    #I = downscale_local_mean(I, (3, 3))\n",
    "    #I = I.astype(bool)\n",
    "    #I = I.astype(float)\n",
    "    return I"
   ]
  },
  {
   "cell_type": "code",
   "execution_count": 38,
   "metadata": {},
   "outputs": [],
   "source": [
    "def AffineTransImg(I):\n",
    "    # Input: \n",
    "    # Image ndarray of floats\n",
    "    #\n",
    "    # Output:\n",
    "    # Affine tranformed image, flattened to 1D\n",
    "    theta = rng.uniform(-np.pi/18, np.pi/18)\n",
    "    rhox = rng.uniform(-0.1,0.1)\n",
    "    rhoy = rng.uniform(-0.1,0.1)\n",
    "    sx = rng.uniform(0.9,1.1)\n",
    "    sy = rng.uniform(0.9,1.1)\n",
    "    tx = rng.uniform(-2,2)\n",
    "    ty = rng.uniform(-2,2)\n",
    "    c = np.cos(theta)\n",
    "    s = np.sin(theta)\n",
    "    Rot = np.array([[c,s],[-s,c]])\n",
    "    Shr = np. array([[1,rhox],[rhoy,1]])\n",
    "    Sca = np.array([[sx,0],[0,sy]])\n",
    "    A = reduce(np.dot, [Sca, Shr, Rot])\n",
    "    b = np.transpose([[0,0]])\n",
    "    try:\n",
    "        Ainv = alg.inv(A)\n",
    "        HomoA = np.concatenate((Ainv,-np.dot(Ainv,b)),axis=1)\n",
    "        HomoA = np.concatenate((HomoA,[[0,0,1]]))\n",
    "        I = affine_transform(I, Ainv)\n",
    "    except np.linalg.LinAlgError as err:\n",
    "        if 'Singular matrix' in str(err):\n",
    "            pass\n",
    "        else:\n",
    "            raise     \n",
    "    I = downscale_local_mean(I, (3, 3))\n",
    "    I[I >= 0.5] = 1\n",
    "    I[I < 0.5] = 0\n",
    "    \n",
    "    I = I.flatten()\n",
    "    return(I)"
   ]
  },
  {
   "cell_type": "code",
   "execution_count": 39,
   "metadata": {},
   "outputs": [
    {
     "name": "stdout",
     "output_type": "stream",
     "text": [
      "One-shot classification demo with Large Margin Nearest Neighbors\n",
      " run 1 (error 75.0%)\n",
      " run 2 (error 95.0%)\n",
      " run 3 (error 95.0%)\n",
      " run 4 (error 90.0%)\n",
      " run 5 (error 85.0%)\n",
      " run 6 (error 90.0%)\n",
      " run 7 (error 100.0%)\n",
      " run 8 (error 95.0%)\n",
      " run 9 (error 90.0%)\n",
      " run 10 (error 100.0%)\n",
      " run 11 (error 95.0%)\n",
      " run 12 (error 85.0%)\n",
      " run 13 (error 85.0%)\n",
      " run 14 (error 80.0%)\n",
      " run 15 (error 95.0%)\n",
      " run 16 (error 90.0%)\n",
      " run 17 (error 95.0%)\n",
      " run 18 (error 85.0%)\n",
      " run 19 (error 90.0%)\n",
      " run 20 (error 95.0%)\n",
      " average error 90.5%\n"
     ]
    }
   ],
   "source": [
    "if __name__ == \"__main__\":\n",
    "\t#\n",
    "\t# Running this demo should lead to a result of 38.8 percent errors.\n",
    "\t#\n",
    "\t#   M.-P. Dubuisson, A. K. Jain (1994). A modified hausdorff distance for object matching.\n",
    "\t#     International Conference on Pattern Recognition, pp. 566-568.\n",
    "\t#\n",
    "\t# ** Models should be trained on images in 'images_background' directory to avoid \n",
    "\t#  using images and alphabets used in the one-shot evaluation **\n",
    "\t#\n",
    "\tprint ('One-shot classification demo with Large Margin Nearest Neighbors')\n",
    "\tperror = np.zeros(nrun)\n",
    "\tfor r in range(1,nrun+1):\n",
    "\t\trs = str(r)\n",
    "\t\tif len(rs)==1:\n",
    "\t\t\trs = '0' + rs\t\t\n",
    "\t\tperror[r-1] = classification_run('run'+rs, LoadImgAsPoints, ModHausdorffDistance, 'cost')\n",
    "\t\tprint (\" run \" + str(r) + \" (error \" + str(\tperror[r-1] ) + \"%)\")\t\t\n",
    "\ttotal = np.mean(perror)\n",
    "\tprint (\" average error \" + str(total) + \"%\")"
   ]
  },
  {
   "cell_type": "markdown",
   "metadata": {},
   "source": [
    "#### Using this metric learning method, the error is very large. In fact this technique only resulted in error close to random guessing (90.5% vs 95%). Unfortunately the LMNN algorithm as implemented is very slow. Additional data augmentation (possibly through other transformations besides affine distortion) and longer time for training would be necessary to see improvement."
   ]
  }
 ],
 "metadata": {
  "kernelspec": {
   "display_name": "Python 3",
   "language": "python",
   "name": "python3"
  },
  "language_info": {
   "codemirror_mode": {
    "name": "ipython",
    "version": 3
   },
   "file_extension": ".py",
   "mimetype": "text/x-python",
   "name": "python",
   "nbconvert_exporter": "python",
   "pygments_lexer": "ipython3",
   "version": "3.5.5"
  }
 },
 "nbformat": 4,
 "nbformat_minor": 2
}
