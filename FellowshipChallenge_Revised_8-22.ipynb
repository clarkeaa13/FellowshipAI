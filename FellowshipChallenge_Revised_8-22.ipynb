{
 "cells": [
  {
   "cell_type": "markdown",
   "metadata": {},
   "source": [
    "# Fellowship.ai One-Shot Learning Challenge (Revision)"
   ]
  },
  {
   "cell_type": "markdown",
   "metadata": {},
   "source": [
    "For the fellowship challenge, I chose the one-shot learning problem. My reasoning for choosing this challenge is that I would like to get more involved in using AI for image processing and computer vision. This challenge gave me the experience of working with large image datasets."
   ]
  },
  {
   "cell_type": "markdown",
   "metadata": {},
   "source": [
    "### Deep Learning: Siamese/Relation Networks"
   ]
  },
  {
   "cell_type": "markdown",
   "metadata": {},
   "source": [
    "The most effective and conceptually simple methods for one-shot learning seem to involve using a \"siamese\" network architecture. The idea is to feed one training image and one test image through a convolutional network with identical parameters. Then the results from both images are fed into another neural network to teach the model to \"compare\" images."
   ]
  },
  {
   "cell_type": "markdown",
   "metadata": {},
   "source": [
    "The original idea applied to one-shot learning was put forth in this paper: https://www.cs.cmu.edu/~rsalakhu/papers/oneshot1.pdf"
   ]
  },
  {
   "cell_type": "markdown",
   "metadata": {},
   "source": [
    "For my project, I used a similar strategy to this paper because it has a more compact structure than the original siamese network: http://openaccess.thecvf.com/content_cvpr_2018/papers_backup/Sung_Learning_to_Compare_CVPR_2018_paper.pdf"
   ]
  },
  {
   "cell_type": "markdown",
   "metadata": {},
   "source": [
    "To create my deep learning model, I used several strategies from the two papers including:\n",
    "\n",
    "-Resizing the images (I chose 26x26 which is approx. 1/4 size)\n",
    "\n",
    "-Distorting the images for training (I used a random affine transform to slightly perturb each image)\n",
    "\n",
    "-Batching several classes at once for each training iteration/episode\n",
    "\n",
    "I also chose to invert the black/white of the images because it works better with the pytorch affine transform function."
   ]
  },
  {
   "cell_type": "code",
   "execution_count": 10,
   "metadata": {},
   "outputs": [],
   "source": [
    "import torch\n",
    "import torch.nn as nn\n",
    "import torch.optim as optim\n",
    "import torch.nn.functional as F\n",
    "\n",
    "import torchvision\n",
    "import torchvision.utils\n",
    "import torchvision.datasets as dset\n",
    "import torchvision.transforms as T\n",
    "\n",
    "import numpy as np\n",
    "\n",
    "from PIL import Image, ImageOps\n",
    "\n",
    "from torch.autograd import Variable\n",
    "\n",
    "from torch.utils.data import DataLoader, Dataset\n",
    "from torch.utils.data.sampler import Sampler\n",
    "\n",
    "from torch.optim.lr_scheduler import StepLR\n",
    "\n",
    "import matplotlib.pyplot as plt\n",
    "\n",
    "import os\n",
    "import math\n",
    "import random"
   ]
  },
  {
   "cell_type": "code",
   "execution_count": 67,
   "metadata": {},
   "outputs": [],
   "source": [
    "PATH = './SN_Training/siamese_jupyter'\n",
    "TEST_PATH = './SN_Training/siamese_jupyter'"
   ]
  },
  {
   "cell_type": "markdown",
   "metadata": {},
   "source": [
    "### Hyperparameters:\n",
    "\n",
    "Most of the hyperparameters of the model are the same as the Relation Network paper, however there are a few key differences:\n",
    "\n",
    "-Because sampling 20 classes x 10 examples per class was not feasible with the amount of GPU memory/speed available to me, I decided against it in favor of only sampling 10 classes with 9 examples per class. This also balanced the matching examples with a single mismatched example from each class (9 vs 9) which prevented the network from overfitting to the distribution of classes. A relatively low loss (95% \"correct\") could be obtained by guessing no relation for all classes.\n",
    "\n",
    "-Images were resized to 26x26 and the network architecture was slightly modified to ensure weights fit all sizes.\n",
    "\n",
    "-Trained for 100000 \"episodes\" and stepped the learning rate down every 10000 episodes."
   ]
  },
  {
   "cell_type": "code",
   "execution_count": 12,
   "metadata": {},
   "outputs": [],
   "source": [
    "###############################################\n",
    "#Hyperparameters\n",
    "###############################################\n",
    "IMG_SIZE = 26\n",
    "HIDDEN_LAYER_SIZE = 8\n",
    "FC_SIZE = 64\n",
    "LEARNING_RATE = 0.001\n",
    "NUM_EX = 9\n",
    "NUM_CL = 10\n",
    "EPISODES = 100000\n",
    "LR_STEP = 10000"
   ]
  },
  {
   "cell_type": "markdown",
   "metadata": {},
   "source": [
    "#### Notable Helper Functions: \n",
    "I used the bitflip function to change the images so that the character is represented by 1 (white) instead of 0 (black).\n",
    "The \"make target\" function is to return 0 for a mismatched pair and 1 for a matching pair."
   ]
  },
  {
   "cell_type": "code",
   "execution_count": 13,
   "metadata": {},
   "outputs": [],
   "source": [
    "###############################################\n",
    "#Helper Functions\n",
    "###############################################\n",
    "\n",
    "def flatten(x):\n",
    "    N = x.shape[0] # read in N, C, H, W\n",
    "    return x.view(N, -1)  # \"flatten\" the C * H * W values into a single vector per image\n",
    "\n",
    "def bitflip(x):\n",
    "    x = torch.mul(x, -1) + 1\n",
    "    return x\n",
    "\n",
    "def make_optimizer(NN_Name, LearningRate):\n",
    "    #input a string representing the name of network\n",
    "    #learning rate should probably be 0.001 or less\n",
    "    optimizer = optim.Adam(NN_Name.parameters(), lr = LearningRate)\n",
    "    return optimizer\n",
    "\n",
    "def make_target(cl1,cl2):\n",
    "    target = cl1==cl2\n",
    "    return target\n",
    "\n",
    "def init_weights(m):\n",
    "    # use by doing $ModuleName$.$layer$.apply(init_weights)\n",
    "    if type(m) == nn.Conv2d:\n",
    "        n = m.kernel_size[0] * m.kernel_size[1] * m.out_channels\n",
    "        m.weight.data.normal_(0, math.sqrt(2. / n))\n",
    "        if m.bias is not None:\n",
    "            m.bias.data.zero_()\n",
    "    elif type(m) == nn.BatchNorm2d:\n",
    "        m.weight.data.fill_(1)\n",
    "        m.bias.data.zero_()\n",
    "    elif type(m) == nn.BatchNorm1d:\n",
    "        m.weight.data.fill_(1)\n",
    "        m.bias.data.zero_()\n",
    "    elif type(m) == nn.Linear:\n",
    "        n = m.weight.size(1)\n",
    "        m.weight.data.normal_(0, math.sqrt(2. / n))\n",
    "        m.bias.data = torch.ones(m.bias.data.size())"
   ]
  },
  {
   "cell_type": "markdown",
   "metadata": {},
   "source": [
    "#### Image Transform:\n",
    "Pytorch transform function for each image is composed of:\n",
    "1. grayscale (convert to single channel image)\n",
    "2. conversion to numbers followed by the bitflip function\n",
    "3. conversion back to PIL image and randomly affine transformed\n",
    "4. slight crop to 104x104 and resized by 1/4 to 26x26\n",
    "5. finally converted back to numbers and normalized by the mean and stdev of all image pixel values\n",
    "\n",
    "The vis_ transforms are for displaying the images only."
   ]
  },
  {
   "cell_type": "code",
   "execution_count": 14,
   "metadata": {},
   "outputs": [],
   "source": [
    "###############################################\n",
    "#Build transforms\n",
    "###############################################\n",
    "\n",
    "# found across the entire dataset pixel values\n",
    "avg_flip = 0.924562 #original black char/white bg\n",
    "avg = 0.075438 #converted to white char/black bg\n",
    "stdev = 0.264097\n",
    "\n",
    "transform = T.Compose([\n",
    "                T.Grayscale(),\n",
    "                T.ToTensor(),\n",
    "                T.Lambda(lambda x: bitflip(x)),\n",
    "                T.ToPILImage(),\n",
    "                T.RandomAffine(15, translate=None, scale=(0.8,1.2), shear=17),\n",
    "                T.CenterCrop(104),\n",
    "                T.Resize((IMG_SIZE,IMG_SIZE),interpolation=1),\n",
    "                T.ToTensor(),\n",
    "                T.Normalize([avg], [stdev])\n",
    "            ])\n",
    "\n",
    "transform_no_aff = T.Compose([\n",
    "                T.Grayscale(),\n",
    "                T.ToTensor(),\n",
    "                T.Lambda(lambda x: bitflip(x)),\n",
    "                T.ToPILImage(),\n",
    "                T.CenterCrop(104),\n",
    "                T.Resize((IMG_SIZE,IMG_SIZE),interpolation=1),\n",
    "                T.ToTensor(),\n",
    "                T.Normalize([avg], [stdev])\n",
    "            ])\n",
    "\n",
    "vis_transform = T.Compose([\n",
    "                T.Grayscale(),\n",
    "                T.ToTensor(),\n",
    "                T.Lambda(lambda x: bitflip(x)),\n",
    "                T.ToPILImage(),\n",
    "                T.RandomAffine(15, translate=None, scale=(0.8,1.2), shear=17),\n",
    "                T.CenterCrop(104),\n",
    "                T.Resize((IMG_SIZE,IMG_SIZE),interpolation=1),\n",
    "                T.ToTensor()        \n",
    "            ])\n",
    "\n",
    "vis_transform_no_aff = T.Compose([\n",
    "                T.Grayscale(),\n",
    "                T.ToTensor(),\n",
    "                T.Lambda(lambda x: bitflip(x)),\n",
    "                T.ToPILImage(),\n",
    "                T.CenterCrop(104),\n",
    "                T.Resize((IMG_SIZE,IMG_SIZE),interpolation=1),\n",
    "                T.ToTensor()\n",
    "            ])"
   ]
  },
  {
   "cell_type": "markdown",
   "metadata": {},
   "source": [
    "I built a custom pytorch sampler to take a certain number of classes per episode and number of examples per class. This can be modified through the hyperparameters NUM_CL and NUM_EX respectively."
   ]
  },
  {
   "cell_type": "code",
   "execution_count": 15,
   "metadata": {},
   "outputs": [],
   "source": [
    "###############################################\n",
    "#Build Custom Sampler Classes\n",
    "###############################################\n",
    "\n",
    "class SampleSampler(Sampler):\n",
    "    '''Samples 'num_inst' examples each from 'num_cl' groups. \n",
    "    for one shot learning, num_inst is 1 for sample group.\n",
    "    'total_inst' per class, 'total_cl' classes'''\n",
    "\n",
    "    def __init__(self, num_cl=20, total_cl=963, num_inst=1, total_inst=20, shuffle=True):\n",
    "        self.num_cl = num_cl\n",
    "        self.total_cl = total_cl\n",
    "        self.num_inst = num_inst\n",
    "        self.total_inst = total_inst\n",
    "        self.cl_list = list(np.random.choice(total_cl, num_cl, replace=False))\n",
    "        self.ex_list = list(np.random.randint(total_inst, size=num_inst*20))\n",
    "        self.shuffle = shuffle\n",
    "        batch = []\n",
    "        for i, cl in enumerate(self.cl_list):\n",
    "            batch = batch + [20*cl+self.ex_list[i]]\n",
    "        mix = batch[:]\n",
    "\n",
    "        if self.shuffle:\n",
    "            np.random.shuffle(mix)\n",
    "        self.batch = batch\n",
    "        self.mix = mix      \n",
    "\n",
    "    def __iter__(self):\n",
    "        # return a single list of indices, assuming that items are grouped 20 per class\n",
    "        if self.shuffle:\n",
    "            return iter(self.mix)\n",
    "        else:\n",
    "            return iter(self.batch)\n",
    "\n",
    "    # the following functions help you retrieve instances\n",
    "    # index of original dataset will be 20*class + example\n",
    "    def get_classes(self):\n",
    "        return self.cl_list\n",
    "\n",
    "    def get_examples(self):\n",
    "        return self.ex_list\n",
    "\n",
    "    def get_batch_idc(self):\n",
    "        return self.batch\n",
    "\n",
    "    def __len__(self):\n",
    "        return len(self.batch)\n",
    "\n",
    "class QuerySampler(Sampler):\n",
    "    '''Samples queries based on class list and example list'''\n",
    "\n",
    "    def __init__(self, cl_list, ex_list, num_inst=19, shuffle=False):\n",
    "        self.cl_list = cl_list\n",
    "        self.ex_list = ex_list\n",
    "        self.num_inst = num_inst\n",
    "        self.shuffle = shuffle\n",
    "        batch = []\n",
    "        for i, cl in enumerate(self.cl_list):\n",
    "            remaining_ex = list(range(20))\n",
    "            remaining_ex.remove(self.ex_list[i])\n",
    "            queries = random.sample(remaining_ex, self.num_inst)\n",
    "            for query in queries:\n",
    "                batch = batch + [20*cl+query]\n",
    "\n",
    "        if self.shuffle:\n",
    "            np.random.shuffle(batch)\n",
    "        \n",
    "        self.batch = batch\n",
    "\n",
    "    def __iter__(self):\n",
    "        # return a single list of indices, assuming that items are grouped 20 per class\n",
    "        return iter(self.batch)\n",
    "\n",
    "    # the following functions help you retrieve instances\n",
    "    # index of original dataset will be 20*class + example\n",
    "    def get_classes(self):\n",
    "        return self.cl_list\n",
    "\n",
    "    def get_examples(self):\n",
    "        return self.ex_list\n",
    "\n",
    "    def get_batch_idc(self):\n",
    "        return self.batch\n",
    "\n",
    "    def __len__(self):\n",
    "        return len(self.batch)"
   ]
  },
  {
   "cell_type": "code",
   "execution_count": 16,
   "metadata": {},
   "outputs": [
    {
     "name": "stdout",
     "output_type": "stream",
     "text": [
      "using device: cuda\n"
     ]
    }
   ],
   "source": [
    "###############################################\n",
    "#CUDA stuff\n",
    "###############################################\n",
    "\n",
    "USE_GPU = True\n",
    "\n",
    "dtype = torch.float32\n",
    "\n",
    "if USE_GPU and torch.cuda.is_available():\n",
    "    device = torch.device('cuda')\n",
    "else:\n",
    "    device = torch.device('cpu')\n",
    "\n",
    "print('using device:', device)"
   ]
  },
  {
   "cell_type": "markdown",
   "metadata": {},
   "source": [
    "### Network Architecture: \n",
    "\n",
    "This is the main network which consists of an identical twin network with 4 convolutional layers, each with 64 3x3 filters, batch norm, ReLU, and MaxPool.\n",
    "\n",
    "The 2 outputs of the twin network are concatenated and then fed through a relational network which consists of two more convolutional layers, with the last layer output size 1. Because batchnorm won't work on a 1D feature, I used SELU to try and mimic the effect of normalization. After that the 1D channels are flattened and fed through a fully connected SELU and finally a fully connected sigmoid to give a \"matching probability.\" The output of the first FC layer is size 8 as in the paper."
   ]
  },
  {
   "cell_type": "code",
   "execution_count": 17,
   "metadata": {},
   "outputs": [],
   "source": [
    "###############################################\n",
    "#Build Siamese Networks\n",
    "###############################################\n",
    "\n",
    "class SiameseNetwork(nn.Module):\n",
    "    def __init__(self, in_channel=1, channel_num=64, FC_num=64, hidden_num=8, output_size=1):\n",
    "        super().__init__()\n",
    "\n",
    "        self.layer1 = nn.Sequential(\n",
    "                        nn.Conv2d(in_channel,channel_num,kernel_size=3,padding=0),\n",
    "                        nn.BatchNorm2d(channel_num, momentum=0.01, affine=True),\n",
    "                        nn.ReLU(),\n",
    "                        nn.MaxPool2d(2))\n",
    "        self.layer2 = nn.Sequential(\n",
    "                        nn.Conv2d(channel_num,channel_num,kernel_size=3,padding=1),\n",
    "                        nn.BatchNorm2d(channel_num, momentum=0.01, affine=True),\n",
    "                        nn.ReLU(),                        \n",
    "                        nn.MaxPool2d(2))\n",
    "        self.layer3 = nn.Sequential(\n",
    "                        nn.Conv2d(channel_num,channel_num,kernel_size=3,padding=1),\n",
    "                        nn.BatchNorm2d(channel_num, momentum=0.01, affine=True),\n",
    "                        nn.ReLU())\n",
    "        self.layer4 = nn.Sequential(\n",
    "                        nn.Conv2d(channel_num,channel_num,kernel_size=3,padding=1),\n",
    "                        nn.BatchNorm2d(channel_num, momentum=0.01, affine=True),\n",
    "                        nn.ReLU())\n",
    "\n",
    "        # output is 6x6x64 after conv section\n",
    "        self.comp1 = nn.Sequential(\n",
    "                        nn.Conv2d(channel_num*2,channel_num,kernel_size=3,padding=1),\n",
    "                        nn.BatchNorm2d(channel_num, momentum=0.01, affine=True),\n",
    "                        nn.ReLU(),\n",
    "                        nn.MaxPool2d(2))\n",
    "        # this is technically a fully connected layer\n",
    "        self.comp2 = nn.Sequential(\n",
    "                        nn.Conv2d(channel_num,channel_num,kernel_size=3,padding=0),\n",
    "                        nn.SELU())\n",
    "        \n",
    "        # input is 64 to FC layer 1\n",
    "        self.fc1 = nn.Sequential(\n",
    "                    nn.Linear(FC_num,hidden_num),\n",
    "                    nn.SELU())\n",
    "        self.fc2 = nn.Sequential(\n",
    "                    nn.Linear(hidden_num,output_size),\n",
    "                    nn.Sigmoid())\n",
    "\n",
    "    def forward_once(self, x):\n",
    "        out = self.layer1(x)\n",
    "        out = self.layer2(out)\n",
    "        out = self.layer3(out)\n",
    "        out = self.layer4(out)\n",
    "        return out\n",
    "    \n",
    "    def relate(self, x):\n",
    "        out = self.comp1(x)\n",
    "        out = self.comp2(out)\n",
    "        out = flatten(out)\n",
    "        out = self.fc1(out)\n",
    "        out = self.fc2(out)\n",
    "        return out\n",
    "\n",
    "    def forward(self,x1,x2):\n",
    "        out1 = self.forward_once(x1)\n",
    "        out2 = self.forward_once(x2)\n",
    "        out_cat = torch.cat((out1,out2),1)\n",
    "        out3 = self.relate(out_cat)\n",
    "        return out3"
   ]
  },
  {
   "cell_type": "markdown",
   "metadata": {},
   "source": [
    "I used the ImageFolder pytorch class after reorganizing the files and applied the appropriate transforms."
   ]
  },
  {
   "cell_type": "code",
   "execution_count": 18,
   "metadata": {},
   "outputs": [],
   "source": [
    "###############################################\n",
    "#Build Dataset\n",
    "###############################################\n",
    "\n",
    "#training set has 963 classes \n",
    "#test set has has 659 classes\n",
    "#all images were dumped into two folders for training and testing\n",
    "omni_train = dset.ImageFolder(root='./training_images/', transform=transform)\n",
    "omni_train_no_aff = dset.ImageFolder(root='./training_images/', transform=transform_no_aff)\n",
    "omni_test  = dset.ImageFolder(root='./testing_images/', transform=transform_no_aff)\n",
    "omni_vis_train = dset.ImageFolder(root='./training_images/', transform=vis_transform)\n",
    "omni_vis_train_no_aff = dset.ImageFolder(root='./training_images/', transform=vis_transform_no_aff)\n"
   ]
  },
  {
   "cell_type": "markdown",
   "metadata": {},
   "source": [
    "#### Testing:\n",
    "To test the model, I randomly select 20 classes from the testing set and choose 2 examples at random; one for \"training sample\" and one for \"test query.\" Each query is paired with a training sample and a relation score probability is output. The class with the maximum relation score is chosen as the hypothesis. Accuracy is (number correct)/20 for each episode. I thoroughly test the model by going through 1000 episodes."
   ]
  },
  {
   "cell_type": "code",
   "execution_count": 19,
   "metadata": {},
   "outputs": [],
   "source": [
    "###############################################\n",
    "#Function for testing the model\n",
    "###############################################\n",
    "\n",
    "def check_accuracy(sample_loader, query_loader, model):\n",
    "    num_correct = 0\n",
    "    num_queries = 0\n",
    "    model.eval()  # set model to evaluation mode\n",
    "    with torch.no_grad():\n",
    "        model.to(device=device,dtype=dtype)\n",
    "        for i, (query, query_label) in enumerate(query_loader):\n",
    "            # for each of 20 queries\n",
    "            num_queries += 1\n",
    "            max_score = 0\n",
    "            truth = None\n",
    "            for j, (sample, sample_label) in enumerate(sample_loader):\n",
    "                # check against the 20 one-shot training samples\n",
    "                sample = sample.to(device=device,dtype=dtype)\n",
    "                query = query.to(device=device,dtype=dtype)\n",
    "                score = model(sample, query)\n",
    "                if query_label==sample_label:\n",
    "                    truth = j\n",
    "                if score > max_score:\n",
    "                    max_score = score\n",
    "                    hypothesis = j\n",
    "\n",
    "            if hypothesis == truth:\n",
    "                num_correct += 1\n",
    "        acc = num_correct/num_queries\n",
    "        print('Got %d / %d correct (%.2f)' % (num_correct, num_queries, 100 * acc))\n",
    "        acc_list = [acc]\n",
    "        return acc_list"
   ]
  },
  {
   "cell_type": "markdown",
   "metadata": {},
   "source": [
    "#### Training:\n",
    "To train the model, I sample some number of classes and examples for each class. Each class pairs up with NUM_EX of its own class and once for each other class. Generally I choose NUM_EX to be NUM_CL - 1 for an equal number of matches and mismatches. I obtained the best performance thus far with 10 classes and 9 examples. Higher numbers were too resource intensive to be able to test, and lower numbers gave slightly less accuracy."
   ]
  },
  {
   "cell_type": "code",
   "execution_count": 20,
   "metadata": {},
   "outputs": [],
   "source": [
    "###############################################\n",
    "#Function to Train the model\n",
    "###############################################\n",
    "\n",
    "def train_SN(model, optimizer, scheduler, episodes=1):\n",
    "    \"\"\"Train using siamese network\"\"\"\n",
    "    model = model.to(device=device)  # move the model parameters to CPU/GPU\n",
    "    for episode in range(episodes):\n",
    "        scheduler.step(episode)\n",
    "        model.train() # set to train mode\n",
    "\n",
    "        # make the samplers \n",
    "        # make 2 samplers, one for the \"training sample set\" of a one-shot classifier\n",
    "        # other sampler is for the \"test query set\" which provides many comparisons\n",
    "        train_sample_sampler = SampleSampler(num_cl=NUM_CL)\n",
    "        sampled_classes = train_sample_sampler.cl_list\n",
    "        sampled_examples = train_sample_sampler.ex_list\n",
    "        train_query_sampler = QuerySampler(sampled_classes, sampled_examples, num_inst=NUM_EX)\n",
    "\n",
    "        # make the dataloaders\n",
    "        s_batch_num = 1 # one shot \"training\" each\n",
    "        q_batch_num = NUM_EX # pair up number of examples per class in a batch (default 19)\n",
    "        train_sample_loader = DataLoader(omni_train, batch_size=s_batch_num, sampler=train_sample_sampler)\n",
    "        train_query_loader = DataLoader(omni_train, batch_size=q_batch_num, sampler=train_query_sampler)\n",
    "        \n",
    "        # start training\n",
    "        scores = torch.zeros(NUM_CL,(NUM_EX+NUM_CL-1)).to(device=device, dtype=dtype)\n",
    "        targets = torch.zeros(NUM_CL,(NUM_EX+NUM_CL-1)).to(device=device, dtype=dtype)\n",
    "        sample_count = 0\n",
    "        for i, (sample, sample_label) in enumerate(train_sample_loader):\n",
    "            sample_count += 1\n",
    "            idx = 0\n",
    "            for j, (batch, batch_labels) in enumerate(train_query_loader):\n",
    "                if sample_label != batch_labels[0]:\n",
    "                    k = np.random.randint(NUM_EX)\n",
    "                    query = batch[k,:,:,:].to(device=device, dtype=dtype)\n",
    "                    query = query.view(1,1,IMG_SIZE,IMG_SIZE)\n",
    "                    sample = sample.to(device=device, dtype=dtype)\n",
    "                    targets[i,idx] = make_target(sample_label, batch_labels[0])\n",
    "                    scores[i,idx] = model(sample,query)\n",
    "                    idx += 1\n",
    "                    \n",
    "                elif sample_label == batch_labels[0]:\n",
    "                    for k in range(NUM_EX):\n",
    "                        query = batch[k,:,:,:].to(device=device, dtype=dtype)\n",
    "                        query = query.view(1,1,IMG_SIZE,IMG_SIZE)\n",
    "                        sample = sample.to(device=device, dtype=dtype)\n",
    "                        targets[i,idx] = make_target(sample_label, batch_labels[0])\n",
    "                        scores[i,idx] = model(sample,query)\n",
    "                        idx += 1\n",
    "            \n",
    "        targets = targets.view(-1)\n",
    "        scores = scores.view(-1)\n",
    "        \n",
    "        # train and update model\n",
    "        optimizer.zero_grad()\n",
    "        #loss = F.binary_cross_entropy(scores, targets)\n",
    "        loss = F.mse_loss(scores, targets)\n",
    "        loss.backward()\n",
    "        #nn.utils.clip_grad_norm_(model.parameters(),0.5)\n",
    "        optimizer.step()\n",
    "\n",
    "        # episodic updates\n",
    "        if (episode+1)%10 == 0:\n",
    "            print(\"episode:\",episode+1,\"loss\",loss.data)\n",
    "\n",
    "        if (episode+1)%100 == 0:\n",
    "            ''' Test the model '''\n",
    "            # make the samplers \n",
    "            test_sample_sampler = SampleSampler(total_cl=659)\n",
    "            sampled_classes = test_sample_sampler.cl_list\n",
    "            sampled_examples = test_sample_sampler.ex_list\n",
    "            test_query_sampler = QuerySampler(sampled_classes, sampled_examples, num_inst=1)\n",
    "\n",
    "            # make the dataloaders\n",
    "            s_batch_num = 1 # one shot each\n",
    "            q_batch_num = 1 # one test each\n",
    "            test_sample_loader = DataLoader(omni_test, batch_size=s_batch_num, sampler=test_sample_sampler)\n",
    "            test_query_loader = DataLoader(omni_test, batch_size=q_batch_num, sampler=test_query_sampler)\n",
    "            check_accuracy(test_sample_loader, test_query_loader, model)\n",
    "\n",
    "        if (episode+1)%1000 == 0:\n",
    "            \"\"\" Save as a draft model \"\"\"\n",
    "            torch.save(model.state_dict(), PATH)"
   ]
  },
  {
   "cell_type": "code",
   "execution_count": 21,
   "metadata": {},
   "outputs": [],
   "source": [
    "###############################################\n",
    "#Train the net\n",
    "###############################################\n",
    "def TrainTheModel():\n",
    "    snet = SiameseNetwork(FC_num=FC_SIZE,hidden_num=HIDDEN_LAYER_SIZE)\n",
    "    snet.layer1.apply(init_weights)\n",
    "    snet.layer2.apply(init_weights)\n",
    "    snet.layer3.apply(init_weights)\n",
    "    snet.layer4.apply(init_weights)\n",
    "    snet.comp1.apply(init_weights)\n",
    "    snet.comp2.apply(init_weights)\n",
    "    snet.fc1.apply(init_weights)\n",
    "    snet.fc2.apply(init_weights)\n",
    "\n",
    "    snet_optim = make_optimizer(snet,LEARNING_RATE)\n",
    "    snet_scheduler = StepLR(snet_optim,step_size=LR_STEP,gamma=0.5)\n",
    "    print(\"Begin Training...\")\n",
    "    train_SN(snet, snet_optim, snet_scheduler, episodes = EPISODES)\n"
   ]
  },
  {
   "cell_type": "code",
   "execution_count": 22,
   "metadata": {},
   "outputs": [],
   "source": [
    "###############################################\n",
    "#Test after saving a model\n",
    "###############################################\n",
    "def TestTheModel(model):\n",
    "    ''' Test the model '''\n",
    "    # make the samplers \n",
    "    test_sample_sampler = SampleSampler(total_cl=659)\n",
    "    sampled_classes = test_sample_sampler.cl_list\n",
    "    sampled_examples = test_sample_sampler.ex_list\n",
    "    test_query_sampler = QuerySampler(sampled_classes, sampled_examples, num_inst=1)\n",
    "\n",
    "    # make the dataloaders\n",
    "    s_batch_num = 1 # one shot each\n",
    "    q_batch_num = 1 # one test each\n",
    "    test_sample_loader = DataLoader(omni_test, batch_size=s_batch_num, sampler=test_sample_sampler)\n",
    "    test_query_loader = DataLoader(omni_test, batch_size=q_batch_num, sampler=test_query_sampler)\n",
    "    return check_accuracy(test_sample_loader, test_query_loader, model)"
   ]
  },
  {
   "cell_type": "markdown",
   "metadata": {},
   "source": [
    "### Main Program:\n",
    "Running the test program results in around 80% accuracy.\n",
    "Running the training mode will output the loss for each episode, and save a model every 1000 episodes for training later."
   ]
  },
  {
   "cell_type": "code",
   "execution_count": 72,
   "metadata": {},
   "outputs": [
    {
     "name": "stdout",
     "output_type": "stream",
     "text": [
      "Press 1 for Train and 2 for Test.\n",
      "2\n",
      "Got 18 / 20 correct (90.00)\n",
      "Got 17 / 20 correct (85.00)\n",
      "Got 19 / 20 correct (95.00)\n",
      "Got 17 / 20 correct (85.00)\n",
      "Got 13 / 20 correct (65.00)\n",
      "Got 13 / 20 correct (65.00)\n",
      "Got 13 / 20 correct (65.00)\n",
      "Got 18 / 20 correct (90.00)\n",
      "Got 17 / 20 correct (85.00)\n",
      "Got 18 / 20 correct (90.00)\n",
      "Got 16 / 20 correct (80.00)\n",
      "Got 15 / 20 correct (75.00)\n",
      "Got 15 / 20 correct (75.00)\n",
      "Got 19 / 20 correct (95.00)\n",
      "Got 18 / 20 correct (90.00)\n",
      "Got 18 / 20 correct (90.00)\n",
      "Got 16 / 20 correct (80.00)\n",
      "Got 14 / 20 correct (70.00)\n",
      "Got 19 / 20 correct (95.00)\n",
      "Got 16 / 20 correct (80.00)\n",
      "Mean (82.25) StDev (10.19)\n"
     ]
    }
   ],
   "source": [
    "###############################################\n",
    "#Main Program\n",
    "###############################################\n",
    "if __name__ == '__main__':\n",
    "    program_mode = None\n",
    "    while(program_mode != '1' and program_mode != '2'):\n",
    "        program_mode = input('Press 1 for Train and 2 for Test.\\n')\n",
    "        if program_mode == '1':\n",
    "            TrainTheModel()\n",
    "        elif program_mode == '2':\n",
    "            model = SiameseNetwork(FC_num=FC_SIZE,hidden_num=HIDDEN_LAYER_SIZE)\n",
    "            model.load_state_dict(torch.load(TEST_PATH))\n",
    "            scores = []\n",
    "            for i in range(20):\n",
    "                scores += TestTheModel(model)\n",
    "            avg_score = 100*np.mean(scores)\n",
    "            std_score = 100*np.std(scores, ddof=1)\n",
    "            print('Mean (%.2f) StDev (%.2f)' % (avg_score, std_score))\n",
    "            np.save('scores_jupyter',scores)\n",
    "        else:\n",
    "            print('Sorry, try again.')"
   ]
  },
  {
   "cell_type": "markdown",
   "metadata": {},
   "source": [
    "## Visualizations and Results:\n",
    "\n",
    "The following code blocks will load a random image from the training set and perform an affine transform on it. This allows us to see how the network might be able to recognize the same image despite some distortions.\n",
    "\n",
    "Affine parameters are randomly selected from:\n",
    "[-15, +15] degree rotation;\n",
    "[0.8, 1.2] scale multiplier;\n",
    "[-17, +17] degrees of shear.\n",
    "\n",
    "These are similar to the affine transform from the Siamese Network paper. Shear degrees were calculated through arctan($\\rho$) because the paper uses shear ratios instead of degrees."
   ]
  },
  {
   "cell_type": "code",
   "execution_count": 30,
   "metadata": {},
   "outputs": [],
   "source": [
    "train_sample_sampler = SampleSampler(num_cl=20, shuffle=False)\n",
    "sampled_classes = train_sample_sampler.cl_list\n",
    "sampled_examples = train_sample_sampler.ex_list\n",
    "train_query_sampler = QuerySampler(sampled_classes, sampled_examples, num_inst=1)\n",
    "\n",
    "s_batch_num = 1 \n",
    "q_batch_num = 1 \n",
    "train_sample_loader = DataLoader(omni_vis_train_no_aff, batch_size=s_batch_num, sampler=train_sample_sampler)\n",
    "train_query_loader = DataLoader(omni_vis_train_no_aff, batch_size=q_batch_num, sampler=train_query_sampler)\n",
    "aff_train_sample_loader = DataLoader(omni_vis_train, batch_size=s_batch_num, sampler=train_sample_sampler)\n",
    "aff_train_query_loader = DataLoader(omni_vis_train, batch_size=q_batch_num, sampler=train_query_sampler)\n",
    "\n",
    "# sample datas\n",
    "aff_sample,aff_sample_labels = aff_train_sample_loader.__iter__().next()\n",
    "aff_query,aff_query_labels = aff_train_query_loader.__iter__().next()\n",
    "sample,sample_labels = train_sample_loader.__iter__().next()\n",
    "query,query_labels = train_query_loader.__iter__().next()\n",
    "\n",
    "# convert to numpy for display\n",
    "aff_sample = aff_sample.view(26,26).numpy()\n",
    "aff_query = aff_query.view(26,26).numpy()\n",
    "sample = sample.view(26,26).numpy()\n",
    "query = query.view(26,26).numpy()\n"
   ]
  },
  {
   "cell_type": "code",
   "execution_count": 31,
   "metadata": {},
   "outputs": [
    {
     "data": {
      "image/png": "[encoded data removed]",
      "text/plain": [
       "<matplotlib.figure.Figure at 0x1fffb7314a8>"
      ]
     },
     "metadata": {},
     "output_type": "display_data"
    }
   ],
   "source": [
    "plt.imshow(aff_sample)\n",
    "plt.show()"
   ]
  },
  {
   "cell_type": "code",
   "execution_count": 32,
   "metadata": {},
   "outputs": [
    {
     "data": {
      "image/png": "[encoded data removed]",
      "text/plain": [
       "<matplotlib.figure.Figure at 0x1fffb770710>"
      ]
     },
     "metadata": {},
     "output_type": "display_data"
    }
   ],
   "source": [
    "plt.imshow(sample)\n",
    "plt.show()"
   ]
  },
  {
   "cell_type": "markdown",
   "metadata": {},
   "source": [
    "## Results:\n",
    "\n",
    "My model resulted in around 81% accuracy with a standard deviation of about 9% for each trial's accuracy. The histogram below shows the scores of the model over 1000 trials."
   ]
  },
  {
   "cell_type": "code",
   "execution_count": 74,
   "metadata": {},
   "outputs": [
    {
     "name": "stdout",
     "output_type": "stream",
     "text": [
      "Mean score: 81.535%\n",
      "Stdev of scores: 9.37916707389%\n"
     ]
    }
   ],
   "source": [
    "scores = np.load('scores_best.npy')\n",
    "print('Mean score: ' + str(100*scores.mean()) + '%\\nStdev of scores: ' + str(100*scores.std()) + '%')"
   ]
  },
  {
   "cell_type": "code",
   "execution_count": 75,
   "metadata": {},
   "outputs": [
    {
     "data": {
      "image/png": "[encoded data removed]",
      "text/plain": [
       "<matplotlib.figure.Figure at 0x1ff8c046c88>"
      ]
     },
     "metadata": {},
     "output_type": "display_data"
    }
   ],
   "source": [
    "histo = np.histogram(scores, bins=21, range=(0,20))\n",
    "plt.hist(20*scores, bins=21, range=(0,20))\n",
    "plt.title(\"Number Correct out of 20\")\n",
    "plt.xticks(np.arange(0,21,step=4))\n",
    "plt.show()"
   ]
  },
  {
   "cell_type": "markdown",
   "metadata": {},
   "source": [
    "### Possible Future Improvements:\n",
    "Overall, this model achieved decent results for accuracy. However, the model could have better consistency. This could mean that there is room to significantly reduce overfitting of the network. Adding in more rotations/affine transformations of images to augment the existing data could help with this task.\n",
    "\n",
    "I also noticed that downscaling the images may cause some \"blur\" that might affect the efficacy of the convolutional filters. Sending the image values to binary might create sharper edge detection. \n",
    "\n",
    "Regarding network architecture, I think that trying different architectures for the relational portion would be the most effective because it is critical for discerning between images. \n",
    "\n",
    "In addition, the model could be trained for more episodes to reduce overfitting (the Relational Network paper trained for 1 million episodes), and there is much room to experiment with different class/example distributions."
   ]
  }
 ],
 "metadata": {
  "kernelspec": {
   "display_name": "Python 3",
   "language": "python",
   "name": "python3"
  },
  "language_info": {
   "codemirror_mode": {
    "name": "ipython",
    "version": 3
   },
   "file_extension": ".py",
   "mimetype": "text/x-python",
   "name": "python",
   "nbconvert_exporter": "python",
   "pygments_lexer": "ipython3",
   "version": "3.5.5"
  }
 },
 "nbformat": 4,
 "nbformat_minor": 2
}
